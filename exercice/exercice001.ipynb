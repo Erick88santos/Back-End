{
  "nbformat": 4,
  "nbformat_minor": 0,
  "metadata": {
    "colab": {
      "provenance": [],
      "authorship_tag": "ABX9TyPDSi1WB+xdDUfPvXiMeDG8",
      "include_colab_link": true
    },
    "kernelspec": {
      "name": "python3",
      "display_name": "Python 3"
    },
    "language_info": {
      "name": "python"
    }
  },
  "cells": [
    {
      "cell_type": "markdown",
      "metadata": {
        "id": "view-in-github",
        "colab_type": "text"
      },
      "source": [
        "<a href=\"https://colab.research.google.com/github/Erick88santos/Projects-Back-End/blob/main/exercice/exercice001.ipynb\" target=\"_parent\"><img src=\"https://colab.research.google.com/assets/colab-badge.svg\" alt=\"Open In Colab\"/></a>"
      ]
    },
    {
      "cell_type": "markdown",
      "source": [
        "# Média de notas Escolares em 4 períodos.\n",
        "## **Python**  🐍 "
      ],
      "metadata": {
        "id": "W8YL1qPXckGm"
      }
    },
    {
      "cell_type": "code",
      "execution_count": null,
      "metadata": {
        "id": "h6QZrXrgbOrZ"
      },
      "outputs": [],
      "source": [
        "notas = []\n",
        "contador = 1\n",
        "\n",
        "while contador < 5:\n",
        "    notas.append(float(input(f'Informe a {contador}a nota: ')))\n",
        "    contador += 1\n",
        "\n",
        "maior_nota = max(notas)\n",
        "menor_nota = min(notas)\n",
        "media = sum(notas) / len(notas)\n",
        "\n",
        "print(f'A média final é {media:.2f}. A sua maior nota foi {maior_nota:.2f} e a menor foi {menor_nota:.2f}')"
      ]
    }
  ]
}